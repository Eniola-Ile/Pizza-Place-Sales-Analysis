{
 "cells": [
  {
   "cell_type": "markdown",
   "id": "1b928e5a-95fc-4420-8fc2-ec78795bee00",
   "metadata": {},
   "source": [
    "# TASK 3 : PIZZA SALES ANALYSIS"
   ]
  },
  {
   "cell_type": "code",
   "execution_count": 1,
   "id": "64d414cf-adab-47b8-964e-6a6d31b189b6",
   "metadata": {},
   "outputs": [],
   "source": [
    "# Importing the required library\n",
    "import pandas as pd\n",
    "\n",
    "import matplotlib.pyplot as plt \n",
    "\n",
    "# To ignore warnings\n",
    "import warnings\n",
    "warnings.filterwarnings(\"ignore\")"
   ]
  },
  {
   "cell_type": "markdown",
   "id": "1466e8b7-82c0-47b8-9321-94f449f6b345",
   "metadata": {},
   "source": [
    "## Importing The Datasets"
   ]
  },
  {
   "cell_type": "code",
   "execution_count": 2,
   "id": "223b165c-f9ed-4bcb-adda-aec6a7a54108",
   "metadata": {},
   "outputs": [],
   "source": [
    "#Importing the datasets \n",
    "\n",
    "order_details = pd.read_csv(r\"C:/Users/HP/Python Stuff/Pizza+Place+Sales/pizza_sales/order_details.csv\", encoding='latin1')\n",
    "\n",
    "orders = pd.read_csv(r\"C:/Users/HP/Python Stuff/Pizza+Place+Sales/pizza_sales/orders.csv\", encoding='latin1')\n",
    "\n",
    "pizza_types = pd.read_csv(r\"C:/Users/HP/Python Stuff/Pizza+Place+Sales/pizza_sales/pizza_types.csv\", encoding='latin1')\n",
    "\n",
    "pizzas = pd.read_csv(r\"C:/Users/HP/Python Stuff/Pizza+Place+Sales/pizza_sales/pizzas.csv\", encoding='latin1')"
   ]
  },
  {
   "cell_type": "markdown",
   "id": "3ca72aae-af31-4d8c-a0e4-dd24c3f97058",
   "metadata": {},
   "source": [
    "## Previewing The Datasets"
   ]
  },
  {
   "cell_type": "code",
   "execution_count": 3,
   "id": "04ef56d2-be52-4b22-bc31-72e65caffa5d",
   "metadata": {},
   "outputs": [],
   "source": [
    "# Before merging the datasets, we'll take a quick look at the first 5 rows of each file using the '.head()' function. \n",
    "#This helps us understand the structure of each datasets and confirm which columns we can use to merge them."
   ]
  },
  {
   "cell_type": "code",
   "execution_count": 4,
   "id": "3376151c-9c3f-41ea-9fb9-09fe3a592676",
   "metadata": {},
   "outputs": [
    {
     "data": {
      "text/html": [
       "<div>\n",
       "<style scoped>\n",
       "    .dataframe tbody tr th:only-of-type {\n",
       "        vertical-align: middle;\n",
       "    }\n",
       "\n",
       "    .dataframe tbody tr th {\n",
       "        vertical-align: top;\n",
       "    }\n",
       "\n",
       "    .dataframe thead th {\n",
       "        text-align: right;\n",
       "    }\n",
       "</style>\n",
       "<table border=\"1\" class=\"dataframe\">\n",
       "  <thead>\n",
       "    <tr style=\"text-align: right;\">\n",
       "      <th></th>\n",
       "      <th>order_details_id</th>\n",
       "      <th>order_id</th>\n",
       "      <th>pizza_id</th>\n",
       "      <th>quantity</th>\n",
       "    </tr>\n",
       "  </thead>\n",
       "  <tbody>\n",
       "    <tr>\n",
       "      <th>0</th>\n",
       "      <td>1</td>\n",
       "      <td>1</td>\n",
       "      <td>hawaiian_m</td>\n",
       "      <td>1</td>\n",
       "    </tr>\n",
       "    <tr>\n",
       "      <th>1</th>\n",
       "      <td>2</td>\n",
       "      <td>2</td>\n",
       "      <td>classic_dlx_m</td>\n",
       "      <td>1</td>\n",
       "    </tr>\n",
       "    <tr>\n",
       "      <th>2</th>\n",
       "      <td>3</td>\n",
       "      <td>2</td>\n",
       "      <td>five_cheese_l</td>\n",
       "      <td>1</td>\n",
       "    </tr>\n",
       "    <tr>\n",
       "      <th>3</th>\n",
       "      <td>4</td>\n",
       "      <td>2</td>\n",
       "      <td>ital_supr_l</td>\n",
       "      <td>1</td>\n",
       "    </tr>\n",
       "    <tr>\n",
       "      <th>4</th>\n",
       "      <td>5</td>\n",
       "      <td>2</td>\n",
       "      <td>mexicana_m</td>\n",
       "      <td>1</td>\n",
       "    </tr>\n",
       "  </tbody>\n",
       "</table>\n",
       "</div>"
      ],
      "text/plain": [
       "   order_details_id  order_id       pizza_id  quantity\n",
       "0                 1         1     hawaiian_m         1\n",
       "1                 2         2  classic_dlx_m         1\n",
       "2                 3         2  five_cheese_l         1\n",
       "3                 4         2    ital_supr_l         1\n",
       "4                 5         2     mexicana_m         1"
      ]
     },
     "execution_count": 4,
     "metadata": {},
     "output_type": "execute_result"
    }
   ],
   "source": [
    "order_details.head()"
   ]
  },
  {
   "cell_type": "code",
   "execution_count": 5,
   "id": "ca461aac-4611-4e6e-abd4-d26562090b1e",
   "metadata": {},
   "outputs": [
    {
     "data": {
      "text/html": [
       "<div>\n",
       "<style scoped>\n",
       "    .dataframe tbody tr th:only-of-type {\n",
       "        vertical-align: middle;\n",
       "    }\n",
       "\n",
       "    .dataframe tbody tr th {\n",
       "        vertical-align: top;\n",
       "    }\n",
       "\n",
       "    .dataframe thead th {\n",
       "        text-align: right;\n",
       "    }\n",
       "</style>\n",
       "<table border=\"1\" class=\"dataframe\">\n",
       "  <thead>\n",
       "    <tr style=\"text-align: right;\">\n",
       "      <th></th>\n",
       "      <th>order_id</th>\n",
       "      <th>date</th>\n",
       "      <th>time</th>\n",
       "    </tr>\n",
       "  </thead>\n",
       "  <tbody>\n",
       "    <tr>\n",
       "      <th>0</th>\n",
       "      <td>1</td>\n",
       "      <td>2015-01-01</td>\n",
       "      <td>11:38:36</td>\n",
       "    </tr>\n",
       "    <tr>\n",
       "      <th>1</th>\n",
       "      <td>2</td>\n",
       "      <td>2015-01-01</td>\n",
       "      <td>11:57:40</td>\n",
       "    </tr>\n",
       "    <tr>\n",
       "      <th>2</th>\n",
       "      <td>3</td>\n",
       "      <td>2015-01-01</td>\n",
       "      <td>12:12:28</td>\n",
       "    </tr>\n",
       "    <tr>\n",
       "      <th>3</th>\n",
       "      <td>4</td>\n",
       "      <td>2015-01-01</td>\n",
       "      <td>12:16:31</td>\n",
       "    </tr>\n",
       "    <tr>\n",
       "      <th>4</th>\n",
       "      <td>5</td>\n",
       "      <td>2015-01-01</td>\n",
       "      <td>12:21:30</td>\n",
       "    </tr>\n",
       "  </tbody>\n",
       "</table>\n",
       "</div>"
      ],
      "text/plain": [
       "   order_id        date      time\n",
       "0         1  2015-01-01  11:38:36\n",
       "1         2  2015-01-01  11:57:40\n",
       "2         3  2015-01-01  12:12:28\n",
       "3         4  2015-01-01  12:16:31\n",
       "4         5  2015-01-01  12:21:30"
      ]
     },
     "execution_count": 5,
     "metadata": {},
     "output_type": "execute_result"
    }
   ],
   "source": [
    "orders.head()"
   ]
  },
  {
   "cell_type": "code",
   "execution_count": 6,
   "id": "a992b088-6d4a-4cc0-9747-599d2cab3b58",
   "metadata": {},
   "outputs": [
    {
     "data": {
      "text/html": [
       "<div>\n",
       "<style scoped>\n",
       "    .dataframe tbody tr th:only-of-type {\n",
       "        vertical-align: middle;\n",
       "    }\n",
       "\n",
       "    .dataframe tbody tr th {\n",
       "        vertical-align: top;\n",
       "    }\n",
       "\n",
       "    .dataframe thead th {\n",
       "        text-align: right;\n",
       "    }\n",
       "</style>\n",
       "<table border=\"1\" class=\"dataframe\">\n",
       "  <thead>\n",
       "    <tr style=\"text-align: right;\">\n",
       "      <th></th>\n",
       "      <th>pizza_type_id</th>\n",
       "      <th>name</th>\n",
       "      <th>category</th>\n",
       "      <th>ingredients</th>\n",
       "    </tr>\n",
       "  </thead>\n",
       "  <tbody>\n",
       "    <tr>\n",
       "      <th>0</th>\n",
       "      <td>bbq_ckn</td>\n",
       "      <td>The Barbecue Chicken Pizza</td>\n",
       "      <td>Chicken</td>\n",
       "      <td>Barbecued Chicken, Red Peppers, Green Peppers,...</td>\n",
       "    </tr>\n",
       "    <tr>\n",
       "      <th>1</th>\n",
       "      <td>cali_ckn</td>\n",
       "      <td>The California Chicken Pizza</td>\n",
       "      <td>Chicken</td>\n",
       "      <td>Chicken, Artichoke, Spinach, Garlic, Jalapeno ...</td>\n",
       "    </tr>\n",
       "    <tr>\n",
       "      <th>2</th>\n",
       "      <td>ckn_alfredo</td>\n",
       "      <td>The Chicken Alfredo Pizza</td>\n",
       "      <td>Chicken</td>\n",
       "      <td>Chicken, Red Onions, Red Peppers, Mushrooms, A...</td>\n",
       "    </tr>\n",
       "    <tr>\n",
       "      <th>3</th>\n",
       "      <td>ckn_pesto</td>\n",
       "      <td>The Chicken Pesto Pizza</td>\n",
       "      <td>Chicken</td>\n",
       "      <td>Chicken, Tomatoes, Red Peppers, Spinach, Garli...</td>\n",
       "    </tr>\n",
       "    <tr>\n",
       "      <th>4</th>\n",
       "      <td>southw_ckn</td>\n",
       "      <td>The Southwest Chicken Pizza</td>\n",
       "      <td>Chicken</td>\n",
       "      <td>Chicken, Tomatoes, Red Peppers, Red Onions, Ja...</td>\n",
       "    </tr>\n",
       "  </tbody>\n",
       "</table>\n",
       "</div>"
      ],
      "text/plain": [
       "  pizza_type_id                          name category  \\\n",
       "0       bbq_ckn    The Barbecue Chicken Pizza  Chicken   \n",
       "1      cali_ckn  The California Chicken Pizza  Chicken   \n",
       "2   ckn_alfredo     The Chicken Alfredo Pizza  Chicken   \n",
       "3     ckn_pesto       The Chicken Pesto Pizza  Chicken   \n",
       "4    southw_ckn   The Southwest Chicken Pizza  Chicken   \n",
       "\n",
       "                                         ingredients  \n",
       "0  Barbecued Chicken, Red Peppers, Green Peppers,...  \n",
       "1  Chicken, Artichoke, Spinach, Garlic, Jalapeno ...  \n",
       "2  Chicken, Red Onions, Red Peppers, Mushrooms, A...  \n",
       "3  Chicken, Tomatoes, Red Peppers, Spinach, Garli...  \n",
       "4  Chicken, Tomatoes, Red Peppers, Red Onions, Ja...  "
      ]
     },
     "execution_count": 6,
     "metadata": {},
     "output_type": "execute_result"
    }
   ],
   "source": [
    "pizza_types.head()"
   ]
  },
  {
   "cell_type": "code",
   "execution_count": 7,
   "id": "46a1d311-a713-488c-8784-706cfea87ee0",
   "metadata": {},
   "outputs": [
    {
     "data": {
      "text/html": [
       "<div>\n",
       "<style scoped>\n",
       "    .dataframe tbody tr th:only-of-type {\n",
       "        vertical-align: middle;\n",
       "    }\n",
       "\n",
       "    .dataframe tbody tr th {\n",
       "        vertical-align: top;\n",
       "    }\n",
       "\n",
       "    .dataframe thead th {\n",
       "        text-align: right;\n",
       "    }\n",
       "</style>\n",
       "<table border=\"1\" class=\"dataframe\">\n",
       "  <thead>\n",
       "    <tr style=\"text-align: right;\">\n",
       "      <th></th>\n",
       "      <th>pizza_id</th>\n",
       "      <th>pizza_type_id</th>\n",
       "      <th>size</th>\n",
       "      <th>price</th>\n",
       "    </tr>\n",
       "  </thead>\n",
       "  <tbody>\n",
       "    <tr>\n",
       "      <th>0</th>\n",
       "      <td>bbq_ckn_s</td>\n",
       "      <td>bbq_ckn</td>\n",
       "      <td>S</td>\n",
       "      <td>12.75</td>\n",
       "    </tr>\n",
       "    <tr>\n",
       "      <th>1</th>\n",
       "      <td>bbq_ckn_m</td>\n",
       "      <td>bbq_ckn</td>\n",
       "      <td>M</td>\n",
       "      <td>16.75</td>\n",
       "    </tr>\n",
       "    <tr>\n",
       "      <th>2</th>\n",
       "      <td>bbq_ckn_l</td>\n",
       "      <td>bbq_ckn</td>\n",
       "      <td>L</td>\n",
       "      <td>20.75</td>\n",
       "    </tr>\n",
       "    <tr>\n",
       "      <th>3</th>\n",
       "      <td>cali_ckn_s</td>\n",
       "      <td>cali_ckn</td>\n",
       "      <td>S</td>\n",
       "      <td>12.75</td>\n",
       "    </tr>\n",
       "    <tr>\n",
       "      <th>4</th>\n",
       "      <td>cali_ckn_m</td>\n",
       "      <td>cali_ckn</td>\n",
       "      <td>M</td>\n",
       "      <td>16.75</td>\n",
       "    </tr>\n",
       "  </tbody>\n",
       "</table>\n",
       "</div>"
      ],
      "text/plain": [
       "     pizza_id pizza_type_id size  price\n",
       "0   bbq_ckn_s       bbq_ckn    S  12.75\n",
       "1   bbq_ckn_m       bbq_ckn    M  16.75\n",
       "2   bbq_ckn_l       bbq_ckn    L  20.75\n",
       "3  cali_ckn_s      cali_ckn    S  12.75\n",
       "4  cali_ckn_m      cali_ckn    M  16.75"
      ]
     },
     "execution_count": 7,
     "metadata": {},
     "output_type": "execute_result"
    }
   ],
   "source": [
    "pizzas.head()"
   ]
  },
  {
   "cell_type": "markdown",
   "id": "9b557c71-c42a-4a6e-968a-3a8dac6a44bd",
   "metadata": {},
   "source": [
    "## Cleaning Each Dataset"
   ]
  },
  {
   "cell_type": "markdown",
   "id": "69b1c885-84fc-4994-8285-2fcdb99b7b6f",
   "metadata": {},
   "source": [
    "### 1. Cleaning order_details dataset"
   ]
  },
  {
   "cell_type": "code",
   "execution_count": 14,
   "id": "105f834e-8ebc-4cc8-ac21-cef857979f4c",
   "metadata": {},
   "outputs": [
    {
     "data": {
      "text/plain": [
       "order_details_id    0\n",
       "order_id            0\n",
       "pizza_id            0\n",
       "quantity            0\n",
       "dtype: int64"
      ]
     },
     "execution_count": 14,
     "metadata": {},
     "output_type": "execute_result"
    }
   ],
   "source": [
    "# Cleaning the order_details dataset\n",
    "\n",
    "order_details.isna().sum() # to check for null values"
   ]
  },
  {
   "cell_type": "code",
   "execution_count": 15,
   "id": "e0b92ea3-e2b9-4ee2-9675-e7c49fcdeddd",
   "metadata": {},
   "outputs": [
    {
     "data": {
      "text/plain": [
       "0"
      ]
     },
     "execution_count": 15,
     "metadata": {},
     "output_type": "execute_result"
    }
   ],
   "source": [
    "order_details.duplicated().sum() # to check for duplicates"
   ]
  },
  {
   "cell_type": "code",
   "execution_count": 16,
   "id": "0df49891-eb59-44fd-9835-bd9cbfd5f704",
   "metadata": {},
   "outputs": [
    {
     "name": "stdout",
     "output_type": "stream",
     "text": [
      "<class 'pandas.core.frame.DataFrame'>\n",
      "RangeIndex: 48620 entries, 0 to 48619\n",
      "Data columns (total 4 columns):\n",
      " #   Column            Non-Null Count  Dtype \n",
      "---  ------            --------------  ----- \n",
      " 0   order_details_id  48620 non-null  int64 \n",
      " 1   order_id          48620 non-null  int64 \n",
      " 2   pizza_id          48620 non-null  object\n",
      " 3   quantity          48620 non-null  int64 \n",
      "dtypes: int64(3), object(1)\n",
      "memory usage: 1.5+ MB\n"
     ]
    }
   ],
   "source": [
    "order_details.info() # gives an overview of datasets"
   ]
  },
  {
   "cell_type": "code",
   "execution_count": 18,
   "id": "0263786d-9967-4823-a2fe-9646af735f70",
   "metadata": {},
   "outputs": [
    {
     "data": {
      "text/html": [
       "<div>\n",
       "<style scoped>\n",
       "    .dataframe tbody tr th:only-of-type {\n",
       "        vertical-align: middle;\n",
       "    }\n",
       "\n",
       "    .dataframe tbody tr th {\n",
       "        vertical-align: top;\n",
       "    }\n",
       "\n",
       "    .dataframe thead th {\n",
       "        text-align: right;\n",
       "    }\n",
       "</style>\n",
       "<table border=\"1\" class=\"dataframe\">\n",
       "  <thead>\n",
       "    <tr style=\"text-align: right;\">\n",
       "      <th></th>\n",
       "      <th>order_details_id</th>\n",
       "      <th>order_id</th>\n",
       "      <th>quantity</th>\n",
       "    </tr>\n",
       "  </thead>\n",
       "  <tbody>\n",
       "    <tr>\n",
       "      <th>count</th>\n",
       "      <td>48620.000000</td>\n",
       "      <td>48620.000000</td>\n",
       "      <td>48620.000000</td>\n",
       "    </tr>\n",
       "    <tr>\n",
       "      <th>mean</th>\n",
       "      <td>24310.500000</td>\n",
       "      <td>10701.479761</td>\n",
       "      <td>1.019622</td>\n",
       "    </tr>\n",
       "    <tr>\n",
       "      <th>std</th>\n",
       "      <td>14035.529381</td>\n",
       "      <td>6180.119770</td>\n",
       "      <td>0.143077</td>\n",
       "    </tr>\n",
       "    <tr>\n",
       "      <th>min</th>\n",
       "      <td>1.000000</td>\n",
       "      <td>1.000000</td>\n",
       "      <td>1.000000</td>\n",
       "    </tr>\n",
       "    <tr>\n",
       "      <th>25%</th>\n",
       "      <td>12155.750000</td>\n",
       "      <td>5337.000000</td>\n",
       "      <td>1.000000</td>\n",
       "    </tr>\n",
       "    <tr>\n",
       "      <th>50%</th>\n",
       "      <td>24310.500000</td>\n",
       "      <td>10682.500000</td>\n",
       "      <td>1.000000</td>\n",
       "    </tr>\n",
       "    <tr>\n",
       "      <th>75%</th>\n",
       "      <td>36465.250000</td>\n",
       "      <td>16100.000000</td>\n",
       "      <td>1.000000</td>\n",
       "    </tr>\n",
       "    <tr>\n",
       "      <th>max</th>\n",
       "      <td>48620.000000</td>\n",
       "      <td>21350.000000</td>\n",
       "      <td>4.000000</td>\n",
       "    </tr>\n",
       "  </tbody>\n",
       "</table>\n",
       "</div>"
      ],
      "text/plain": [
       "       order_details_id      order_id      quantity\n",
       "count      48620.000000  48620.000000  48620.000000\n",
       "mean       24310.500000  10701.479761      1.019622\n",
       "std        14035.529381   6180.119770      0.143077\n",
       "min            1.000000      1.000000      1.000000\n",
       "25%        12155.750000   5337.000000      1.000000\n",
       "50%        24310.500000  10682.500000      1.000000\n",
       "75%        36465.250000  16100.000000      1.000000\n",
       "max        48620.000000  21350.000000      4.000000"
      ]
     },
     "execution_count": 18,
     "metadata": {},
     "output_type": "execute_result"
    }
   ],
   "source": [
    "order_details.describe() # quick summary of the statistical properties"
   ]
  },
  {
   "cell_type": "code",
   "execution_count": 13,
   "id": "a5bf51a3-8933-4bf3-9873-55bae8fda9d7",
   "metadata": {},
   "outputs": [],
   "source": [
    "# Data cleaning is complete for this dataset\n",
    "# After performing checks such as .isna().sum(), .duplicated.sum(), .info() and .describe()\n",
    "# I've found that there are no missing values,no duplicates,  appropriate dtypes \n",
    "# Outlier analysis was skipped for the quantity column because the values (ranging from 1-4) are all realistic and expected in the context of pizza ordering\n",
    "# This data is ready for merging with other datasets"
   ]
  },
  {
   "cell_type": "markdown",
   "id": "fb8f38fb-44b0-46be-a932-f579427ee2f6",
   "metadata": {},
   "source": [
    "### 2. Cleaning orders dataset"
   ]
  },
  {
   "cell_type": "code",
   "execution_count": 19,
   "id": "bf6ccd73-9310-40c4-8414-3e0af8365c9d",
   "metadata": {},
   "outputs": [
    {
     "data": {
      "text/plain": [
       "order_id    0\n",
       "date        0\n",
       "time        0\n",
       "dtype: int64"
      ]
     },
     "execution_count": 19,
     "metadata": {},
     "output_type": "execute_result"
    }
   ],
   "source": [
    "# Cleaning the orders dataset\n",
    "\n",
    "orders.isna().sum() # to check for null values"
   ]
  },
  {
   "cell_type": "code",
   "execution_count": 20,
   "id": "d4658320-dec4-481a-ab51-79ed2ae2a19d",
   "metadata": {},
   "outputs": [
    {
     "data": {
      "text/plain": [
       "0"
      ]
     },
     "execution_count": 20,
     "metadata": {},
     "output_type": "execute_result"
    }
   ],
   "source": [
    "orders.duplicated().sum() # to check for duplicates"
   ]
  },
  {
   "cell_type": "code",
   "execution_count": 21,
   "id": "9663d9fa-03ae-44d1-9eca-9097c82bfc74",
   "metadata": {},
   "outputs": [
    {
     "name": "stdout",
     "output_type": "stream",
     "text": [
      "<class 'pandas.core.frame.DataFrame'>\n",
      "RangeIndex: 21350 entries, 0 to 21349\n",
      "Data columns (total 3 columns):\n",
      " #   Column    Non-Null Count  Dtype \n",
      "---  ------    --------------  ----- \n",
      " 0   order_id  21350 non-null  int64 \n",
      " 1   date      21350 non-null  object\n",
      " 2   time      21350 non-null  object\n",
      "dtypes: int64(1), object(2)\n",
      "memory usage: 500.5+ KB\n"
     ]
    }
   ],
   "source": [
    "orders.info() # gives an overview of datasets"
   ]
  },
  {
   "cell_type": "code",
   "execution_count": 5,
   "id": "901a18d3-e608-4eb4-a577-1a4bcb62d1da",
   "metadata": {},
   "outputs": [
    {
     "name": "stdout",
     "output_type": "stream",
     "text": [
      "<class 'pandas.core.frame.DataFrame'>\n",
      "RangeIndex: 21350 entries, 0 to 21349\n",
      "Data columns (total 3 columns):\n",
      " #   Column    Non-Null Count  Dtype         \n",
      "---  ------    --------------  -----         \n",
      " 0   order_id  21350 non-null  int64         \n",
      " 1   date      21350 non-null  datetime64[ns]\n",
      " 2   time      21350 non-null  object        \n",
      "dtypes: datetime64[ns](1), int64(1), object(1)\n",
      "memory usage: 500.5+ KB\n"
     ]
    }
   ],
   "source": [
    "# Converting date to a datetime dtype\n",
    "\n",
    "orders[\"date\"] = pd.to_datetime(orders[\"date\"])\n",
    "\n",
    "orders.info()"
   ]
  },
  {
   "cell_type": "code",
   "execution_count": 6,
   "id": "493be3e7-b1c1-4167-9857-d3a882df94fc",
   "metadata": {},
   "outputs": [
    {
     "name": "stdout",
     "output_type": "stream",
     "text": [
      "<class 'pandas.core.frame.DataFrame'>\n",
      "RangeIndex: 21350 entries, 0 to 21349\n",
      "Data columns (total 3 columns):\n",
      " #   Column    Non-Null Count  Dtype         \n",
      "---  ------    --------------  -----         \n",
      " 0   order_id  21350 non-null  int64         \n",
      " 1   date      21350 non-null  datetime64[ns]\n",
      " 2   time      21350 non-null  datetime64[ns]\n",
      "dtypes: datetime64[ns](2), int64(1)\n",
      "memory usage: 500.5 KB\n"
     ]
    }
   ],
   "source": [
    "# Converting time to a datetime dtype\n",
    "orders[\"time\"] = pd.to_datetime(orders[\"time\"])\n",
    "\n",
    "orders.info()\n"
   ]
  },
  {
   "cell_type": "code",
   "execution_count": 10,
   "id": "6f95f61a-8aac-49e5-8c27-7cd475a22de2",
   "metadata": {},
   "outputs": [],
   "source": [
    "# Data cleaning is complete for this dataset\n",
    "# After performing checks such as .isna().sum(), .duplicated.sum(), and .info()\n",
    "# I've found that there are no missing values,no duplicates, we converted the dtypes to the right ones\n",
    "# And no outliers(because there is no numerical column)\n",
    "# This data is ready for merging with other datasets"
   ]
  },
  {
   "cell_type": "markdown",
   "id": "abcd7c70-2fba-4fe1-a2dc-30ee94a1d934",
   "metadata": {},
   "source": [
    "### 3. Cleaning pizzas dataset"
   ]
  },
  {
   "cell_type": "code",
   "execution_count": 7,
   "id": "f4a46aee-7206-4d7d-a4e0-3d07fcbc7d4e",
   "metadata": {},
   "outputs": [
    {
     "data": {
      "text/plain": [
       "pizza_id         0\n",
       "pizza_type_id    0\n",
       "size             0\n",
       "price            0\n",
       "dtype: int64"
      ]
     },
     "execution_count": 7,
     "metadata": {},
     "output_type": "execute_result"
    }
   ],
   "source": [
    "# Cleaning the pizzas dataset\n",
    "\n",
    "pizzas.isna().sum() # to check for null values"
   ]
  },
  {
   "cell_type": "code",
   "execution_count": 8,
   "id": "7a977aec-8d72-4b24-af08-cff1846c9491",
   "metadata": {},
   "outputs": [
    {
     "data": {
      "text/plain": [
       "0"
      ]
     },
     "execution_count": 8,
     "metadata": {},
     "output_type": "execute_result"
    }
   ],
   "source": [
    "pizzas.duplicated().sum() # to check for duplicates"
   ]
  },
  {
   "cell_type": "code",
   "execution_count": 9,
   "id": "b775043a-1837-491b-8203-ba3b192847bf",
   "metadata": {},
   "outputs": [
    {
     "name": "stdout",
     "output_type": "stream",
     "text": [
      "<class 'pandas.core.frame.DataFrame'>\n",
      "RangeIndex: 96 entries, 0 to 95\n",
      "Data columns (total 4 columns):\n",
      " #   Column         Non-Null Count  Dtype  \n",
      "---  ------         --------------  -----  \n",
      " 0   pizza_id       96 non-null     object \n",
      " 1   pizza_type_id  96 non-null     object \n",
      " 2   size           96 non-null     object \n",
      " 3   price          96 non-null     float64\n",
      "dtypes: float64(1), object(3)\n",
      "memory usage: 3.1+ KB\n"
     ]
    }
   ],
   "source": [
    "pizzas.info() # gives an overview of datasets"
   ]
  },
  {
   "cell_type": "code",
   "execution_count": 11,
   "id": "3a971915-4d10-48bc-b888-4df39fa58e54",
   "metadata": {},
   "outputs": [
    {
     "data": {
      "text/html": [
       "<div>\n",
       "<style scoped>\n",
       "    .dataframe tbody tr th:only-of-type {\n",
       "        vertical-align: middle;\n",
       "    }\n",
       "\n",
       "    .dataframe tbody tr th {\n",
       "        vertical-align: top;\n",
       "    }\n",
       "\n",
       "    .dataframe thead th {\n",
       "        text-align: right;\n",
       "    }\n",
       "</style>\n",
       "<table border=\"1\" class=\"dataframe\">\n",
       "  <thead>\n",
       "    <tr style=\"text-align: right;\">\n",
       "      <th></th>\n",
       "      <th>price</th>\n",
       "    </tr>\n",
       "  </thead>\n",
       "  <tbody>\n",
       "    <tr>\n",
       "      <th>count</th>\n",
       "      <td>96.000000</td>\n",
       "    </tr>\n",
       "    <tr>\n",
       "      <th>mean</th>\n",
       "      <td>16.440625</td>\n",
       "    </tr>\n",
       "    <tr>\n",
       "      <th>std</th>\n",
       "      <td>4.090266</td>\n",
       "    </tr>\n",
       "    <tr>\n",
       "      <th>min</th>\n",
       "      <td>9.750000</td>\n",
       "    </tr>\n",
       "    <tr>\n",
       "      <th>25%</th>\n",
       "      <td>12.500000</td>\n",
       "    </tr>\n",
       "    <tr>\n",
       "      <th>50%</th>\n",
       "      <td>16.250000</td>\n",
       "    </tr>\n",
       "    <tr>\n",
       "      <th>75%</th>\n",
       "      <td>20.250000</td>\n",
       "    </tr>\n",
       "    <tr>\n",
       "      <th>max</th>\n",
       "      <td>35.950000</td>\n",
       "    </tr>\n",
       "  </tbody>\n",
       "</table>\n",
       "</div>"
      ],
      "text/plain": [
       "           price\n",
       "count  96.000000\n",
       "mean   16.440625\n",
       "std     4.090266\n",
       "min     9.750000\n",
       "25%    12.500000\n",
       "50%    16.250000\n",
       "75%    20.250000\n",
       "max    35.950000"
      ]
     },
     "execution_count": 11,
     "metadata": {},
     "output_type": "execute_result"
    }
   ],
   "source": [
    "pizzas.describe() # quick summary of the statistical properties"
   ]
  },
  {
   "cell_type": "code",
   "execution_count": 12,
   "id": "9523b94f-512a-4a4f-8c0e-d8e2329f66ff",
   "metadata": {},
   "outputs": [],
   "source": [
    "# Data cleaning is complete for this dataset\n",
    "# After performing checks such as .isna().sum(), .duplicated.sum(), .info() and .describe()\n",
    "# I've found that there are no missing values,no duplicates, appropriate dtypes \n",
    "# After evaluating the price column, I observed that the maximum value 35.95 corresponds to an order with 4 pizzas, so it isn't an outlier in this context\n",
    "# This data is ready for merging with other datasets"
   ]
  },
  {
   "cell_type": "markdown",
   "id": "c112f1cc-fea8-4a63-b0d0-e1908f639e2a",
   "metadata": {},
   "source": [
    "### 4. Cleaning pizza_types dataset"
   ]
  },
  {
   "cell_type": "code",
   "execution_count": 9,
   "id": "3ee5757f-d7e0-44dd-9373-e584eddb7c1f",
   "metadata": {},
   "outputs": [
    {
     "data": {
      "text/plain": [
       "pizza_type_id    0\n",
       "name             0\n",
       "category         0\n",
       "ingredients      0\n",
       "dtype: int64"
      ]
     },
     "execution_count": 9,
     "metadata": {},
     "output_type": "execute_result"
    }
   ],
   "source": [
    "# Cleaning the pizza_types dataset\n",
    "\n",
    "pizza_types.isna().sum() # to check for null values"
   ]
  },
  {
   "cell_type": "code",
   "execution_count": 10,
   "id": "ef017145-c3b1-4ee6-bb0c-e5390215b5b6",
   "metadata": {},
   "outputs": [
    {
     "data": {
      "text/plain": [
       "0"
      ]
     },
     "execution_count": 10,
     "metadata": {},
     "output_type": "execute_result"
    }
   ],
   "source": [
    "pizza_types.duplicated().sum() # to check for duplicates"
   ]
  },
  {
   "cell_type": "code",
   "execution_count": 11,
   "id": "c7db703f-76d2-4488-866a-b07114ed46d0",
   "metadata": {},
   "outputs": [
    {
     "name": "stdout",
     "output_type": "stream",
     "text": [
      "<class 'pandas.core.frame.DataFrame'>\n",
      "RangeIndex: 32 entries, 0 to 31\n",
      "Data columns (total 4 columns):\n",
      " #   Column         Non-Null Count  Dtype \n",
      "---  ------         --------------  ----- \n",
      " 0   pizza_type_id  32 non-null     object\n",
      " 1   name           32 non-null     object\n",
      " 2   category       32 non-null     object\n",
      " 3   ingredients    32 non-null     object\n",
      "dtypes: object(4)\n",
      "memory usage: 1.1+ KB\n"
     ]
    }
   ],
   "source": [
    "pizza_types.info() # gives an overview of datasets"
   ]
  },
  {
   "cell_type": "code",
   "execution_count": 14,
   "id": "c46e6bf3-dc26-4b92-9501-0f833e9ba2b8",
   "metadata": {},
   "outputs": [],
   "source": [
    "# Data cleaning is complete for this dataset\n",
    "# After performing checks such as .isna().sum(), .duplicated.sum(), and .info()\n",
    "# I've found that there are no missing values,no duplicates,and  appropriate dtypes\n",
    "# And no outliers(because there is no numerical column)\n",
    "# This data is ready for merging with other datasets"
   ]
  },
  {
   "cell_type": "markdown",
   "id": "7ac2ca2e-b2c9-4059-9890-78c443d5dad8",
   "metadata": {},
   "source": [
    "### 5. Clean merge columns : make lowercase and strip whitespace for consistency before merging"
   ]
  },
  {
   "cell_type": "code",
   "execution_count": 15,
   "id": "1ff037fc-b483-4cce-a028-9d50fbb58ec2",
   "metadata": {},
   "outputs": [],
   "source": [
    "order_details[\"pizza_id\"] = order_details[\"pizza_id\"].str.lower().str.strip()\n",
    "pizzas[\"pizza_id\"] = pizzas[\"pizza_id\"].str.lower().str.strip()\n",
    "\n",
    "pizzas[\"pizza_type_id\"] = pizzas[\"pizza_type_id\"].str.lower().str.strip()\n",
    "pizza_types[\"pizza_type_id\"] = pizza_types[\"pizza_type_id\"].str.lower().str.strip()"
   ]
  },
  {
   "cell_type": "markdown",
   "id": "c2d1c057-46c0-4711-8d5c-1e94a1a53b2f",
   "metadata": {},
   "source": [
    "## Merging The Datasets"
   ]
  },
  {
   "cell_type": "code",
   "execution_count": 9,
   "id": "1d83d422-c409-41ce-b8ce-b0b364a07a0c",
   "metadata": {},
   "outputs": [
    {
     "data": {
      "text/html": [
       "<div>\n",
       "<style scoped>\n",
       "    .dataframe tbody tr th:only-of-type {\n",
       "        vertical-align: middle;\n",
       "    }\n",
       "\n",
       "    .dataframe tbody tr th {\n",
       "        vertical-align: top;\n",
       "    }\n",
       "\n",
       "    .dataframe thead th {\n",
       "        text-align: right;\n",
       "    }\n",
       "</style>\n",
       "<table border=\"1\" class=\"dataframe\">\n",
       "  <thead>\n",
       "    <tr style=\"text-align: right;\">\n",
       "      <th></th>\n",
       "      <th>order_details_id</th>\n",
       "      <th>order_id</th>\n",
       "      <th>pizza_id</th>\n",
       "      <th>quantity</th>\n",
       "      <th>date</th>\n",
       "      <th>time</th>\n",
       "    </tr>\n",
       "  </thead>\n",
       "  <tbody>\n",
       "    <tr>\n",
       "      <th>0</th>\n",
       "      <td>1</td>\n",
       "      <td>1</td>\n",
       "      <td>hawaiian_m</td>\n",
       "      <td>1</td>\n",
       "      <td>2015-01-01</td>\n",
       "      <td>11:38:36</td>\n",
       "    </tr>\n",
       "    <tr>\n",
       "      <th>1</th>\n",
       "      <td>2</td>\n",
       "      <td>2</td>\n",
       "      <td>classic_dlx_m</td>\n",
       "      <td>1</td>\n",
       "      <td>2015-01-01</td>\n",
       "      <td>11:57:40</td>\n",
       "    </tr>\n",
       "    <tr>\n",
       "      <th>2</th>\n",
       "      <td>3</td>\n",
       "      <td>2</td>\n",
       "      <td>five_cheese_l</td>\n",
       "      <td>1</td>\n",
       "      <td>2015-01-01</td>\n",
       "      <td>11:57:40</td>\n",
       "    </tr>\n",
       "    <tr>\n",
       "      <th>3</th>\n",
       "      <td>4</td>\n",
       "      <td>2</td>\n",
       "      <td>ital_supr_l</td>\n",
       "      <td>1</td>\n",
       "      <td>2015-01-01</td>\n",
       "      <td>11:57:40</td>\n",
       "    </tr>\n",
       "    <tr>\n",
       "      <th>4</th>\n",
       "      <td>5</td>\n",
       "      <td>2</td>\n",
       "      <td>mexicana_m</td>\n",
       "      <td>1</td>\n",
       "      <td>2015-01-01</td>\n",
       "      <td>11:57:40</td>\n",
       "    </tr>\n",
       "  </tbody>\n",
       "</table>\n",
       "</div>"
      ],
      "text/plain": [
       "   order_details_id  order_id       pizza_id  quantity        date      time\n",
       "0                 1         1     hawaiian_m         1  2015-01-01  11:38:36\n",
       "1                 2         2  classic_dlx_m         1  2015-01-01  11:57:40\n",
       "2                 3         2  five_cheese_l         1  2015-01-01  11:57:40\n",
       "3                 4         2    ital_supr_l         1  2015-01-01  11:57:40\n",
       "4                 5         2     mexicana_m         1  2015-01-01  11:57:40"
      ]
     },
     "execution_count": 9,
     "metadata": {},
     "output_type": "execute_result"
    }
   ],
   "source": [
    "# Merge 1: order_details + orders on order_id using left join to keep all order details records\n",
    "\n",
    "df1 = pd.merge(order_details, orders, on = \"order_id\", how = \"left\")\n",
    "\n",
    "df1.head()"
   ]
  },
  {
   "cell_type": "code",
   "execution_count": 17,
   "id": "c675efb0-ca0d-4c33-ba32-96d1e67a9113",
   "metadata": {},
   "outputs": [
    {
     "data": {
      "text/html": [
       "<div>\n",
       "<style scoped>\n",
       "    .dataframe tbody tr th:only-of-type {\n",
       "        vertical-align: middle;\n",
       "    }\n",
       "\n",
       "    .dataframe tbody tr th {\n",
       "        vertical-align: top;\n",
       "    }\n",
       "\n",
       "    .dataframe thead th {\n",
       "        text-align: right;\n",
       "    }\n",
       "</style>\n",
       "<table border=\"1\" class=\"dataframe\">\n",
       "  <thead>\n",
       "    <tr style=\"text-align: right;\">\n",
       "      <th></th>\n",
       "      <th>order_details_id</th>\n",
       "      <th>order_id</th>\n",
       "      <th>pizza_id</th>\n",
       "      <th>quantity</th>\n",
       "      <th>date</th>\n",
       "      <th>time</th>\n",
       "    </tr>\n",
       "  </thead>\n",
       "  <tbody>\n",
       "  </tbody>\n",
       "</table>\n",
       "</div>"
      ],
      "text/plain": [
       "Empty DataFrame\n",
       "Columns: [order_details_id, order_id, pizza_id, quantity, date, time]\n",
       "Index: []"
      ]
     },
     "execution_count": 17,
     "metadata": {},
     "output_type": "execute_result"
    }
   ],
   "source": [
    "# Check for unmatched pizza_ids before merging\n",
    "unmatched_pizza_ids = df1[df1[\"pizza_id\"].isin(pizzas[\"pizza_id\"]) == False]\n",
    "\n",
    "unmatched_pizza_ids"
   ]
  },
  {
   "cell_type": "code",
   "execution_count": 18,
   "id": "2c2cc173-fb79-4534-8fc9-2a6b9804ba96",
   "metadata": {},
   "outputs": [],
   "source": [
    "# The output of the cell above means all the pizza ids in df1 are all found in the pizza id in the pizza table.\n",
    "# so we would have no problem with merging."
   ]
  },
  {
   "cell_type": "code",
   "execution_count": 10,
   "id": "2d915bc7-5fdc-42a1-aa66-22f6b25d1031",
   "metadata": {},
   "outputs": [
    {
     "data": {
      "text/html": [
       "<div>\n",
       "<style scoped>\n",
       "    .dataframe tbody tr th:only-of-type {\n",
       "        vertical-align: middle;\n",
       "    }\n",
       "\n",
       "    .dataframe tbody tr th {\n",
       "        vertical-align: top;\n",
       "    }\n",
       "\n",
       "    .dataframe thead th {\n",
       "        text-align: right;\n",
       "    }\n",
       "</style>\n",
       "<table border=\"1\" class=\"dataframe\">\n",
       "  <thead>\n",
       "    <tr style=\"text-align: right;\">\n",
       "      <th></th>\n",
       "      <th>order_details_id</th>\n",
       "      <th>order_id</th>\n",
       "      <th>pizza_id</th>\n",
       "      <th>quantity</th>\n",
       "      <th>date</th>\n",
       "      <th>time</th>\n",
       "      <th>pizza_type_id</th>\n",
       "      <th>size</th>\n",
       "      <th>price</th>\n",
       "    </tr>\n",
       "  </thead>\n",
       "  <tbody>\n",
       "    <tr>\n",
       "      <th>0</th>\n",
       "      <td>1</td>\n",
       "      <td>1</td>\n",
       "      <td>hawaiian_m</td>\n",
       "      <td>1</td>\n",
       "      <td>2015-01-01</td>\n",
       "      <td>11:38:36</td>\n",
       "      <td>hawaiian</td>\n",
       "      <td>M</td>\n",
       "      <td>13.25</td>\n",
       "    </tr>\n",
       "    <tr>\n",
       "      <th>1</th>\n",
       "      <td>2</td>\n",
       "      <td>2</td>\n",
       "      <td>classic_dlx_m</td>\n",
       "      <td>1</td>\n",
       "      <td>2015-01-01</td>\n",
       "      <td>11:57:40</td>\n",
       "      <td>classic_dlx</td>\n",
       "      <td>M</td>\n",
       "      <td>16.00</td>\n",
       "    </tr>\n",
       "    <tr>\n",
       "      <th>2</th>\n",
       "      <td>3</td>\n",
       "      <td>2</td>\n",
       "      <td>five_cheese_l</td>\n",
       "      <td>1</td>\n",
       "      <td>2015-01-01</td>\n",
       "      <td>11:57:40</td>\n",
       "      <td>five_cheese</td>\n",
       "      <td>L</td>\n",
       "      <td>18.50</td>\n",
       "    </tr>\n",
       "    <tr>\n",
       "      <th>3</th>\n",
       "      <td>4</td>\n",
       "      <td>2</td>\n",
       "      <td>ital_supr_l</td>\n",
       "      <td>1</td>\n",
       "      <td>2015-01-01</td>\n",
       "      <td>11:57:40</td>\n",
       "      <td>ital_supr</td>\n",
       "      <td>L</td>\n",
       "      <td>20.75</td>\n",
       "    </tr>\n",
       "    <tr>\n",
       "      <th>4</th>\n",
       "      <td>5</td>\n",
       "      <td>2</td>\n",
       "      <td>mexicana_m</td>\n",
       "      <td>1</td>\n",
       "      <td>2015-01-01</td>\n",
       "      <td>11:57:40</td>\n",
       "      <td>mexicana</td>\n",
       "      <td>M</td>\n",
       "      <td>16.00</td>\n",
       "    </tr>\n",
       "  </tbody>\n",
       "</table>\n",
       "</div>"
      ],
      "text/plain": [
       "   order_details_id  order_id       pizza_id  quantity        date      time  \\\n",
       "0                 1         1     hawaiian_m         1  2015-01-01  11:38:36   \n",
       "1                 2         2  classic_dlx_m         1  2015-01-01  11:57:40   \n",
       "2                 3         2  five_cheese_l         1  2015-01-01  11:57:40   \n",
       "3                 4         2    ital_supr_l         1  2015-01-01  11:57:40   \n",
       "4                 5         2     mexicana_m         1  2015-01-01  11:57:40   \n",
       "\n",
       "  pizza_type_id size  price  \n",
       "0      hawaiian    M  13.25  \n",
       "1   classic_dlx    M  16.00  \n",
       "2   five_cheese    L  18.50  \n",
       "3     ital_supr    L  20.75  \n",
       "4      mexicana    M  16.00  "
      ]
     },
     "execution_count": 10,
     "metadata": {},
     "output_type": "execute_result"
    }
   ],
   "source": [
    "# Merge 2: df1 + pizzas on pizza_id using left join to keep all pizza id records on df1\n",
    "\n",
    "df2 = pd.merge(df1, pizzas, on = \"pizza_id\", how = \"left\")\n",
    "\n",
    "df2.head()"
   ]
  },
  {
   "cell_type": "code",
   "execution_count": 21,
   "id": "b16094c2-a8a9-4a4d-ad1e-48ca6d48b8a6",
   "metadata": {},
   "outputs": [
    {
     "data": {
      "text/html": [
       "<div>\n",
       "<style scoped>\n",
       "    .dataframe tbody tr th:only-of-type {\n",
       "        vertical-align: middle;\n",
       "    }\n",
       "\n",
       "    .dataframe tbody tr th {\n",
       "        vertical-align: top;\n",
       "    }\n",
       "\n",
       "    .dataframe thead th {\n",
       "        text-align: right;\n",
       "    }\n",
       "</style>\n",
       "<table border=\"1\" class=\"dataframe\">\n",
       "  <thead>\n",
       "    <tr style=\"text-align: right;\">\n",
       "      <th></th>\n",
       "      <th>order_details_id</th>\n",
       "      <th>order_id</th>\n",
       "      <th>pizza_id</th>\n",
       "      <th>quantity</th>\n",
       "      <th>date</th>\n",
       "      <th>time</th>\n",
       "      <th>pizza_type_id</th>\n",
       "      <th>size</th>\n",
       "      <th>price</th>\n",
       "    </tr>\n",
       "  </thead>\n",
       "  <tbody>\n",
       "  </tbody>\n",
       "</table>\n",
       "</div>"
      ],
      "text/plain": [
       "Empty DataFrame\n",
       "Columns: [order_details_id, order_id, pizza_id, quantity, date, time, pizza_type_id, size, price]\n",
       "Index: []"
      ]
     },
     "execution_count": 21,
     "metadata": {},
     "output_type": "execute_result"
    }
   ],
   "source": [
    "# Check for unmatched pizza_ids before merging\n",
    "unmatched_pizza_type_ids = df2[df2[\"pizza_type_id\"].isin(pizzas[\"pizza_type_id\"]) == False]\n",
    "\n",
    "unmatched_pizza_type_ids"
   ]
  },
  {
   "cell_type": "code",
   "execution_count": 33,
   "id": "2a9c758b-53a5-4328-82ac-305a6c898d9a",
   "metadata": {},
   "outputs": [],
   "source": [
    "# The output of the cell above means all the pizza type ids in df2 are all found in the pizza id in the pizza type table.\n",
    "# so we would have no problem with merging."
   ]
  },
  {
   "cell_type": "code",
   "execution_count": 11,
   "id": "87c9c8d0-4a9f-479d-9902-e7c935c303e5",
   "metadata": {},
   "outputs": [
    {
     "data": {
      "text/html": [
       "<div>\n",
       "<style scoped>\n",
       "    .dataframe tbody tr th:only-of-type {\n",
       "        vertical-align: middle;\n",
       "    }\n",
       "\n",
       "    .dataframe tbody tr th {\n",
       "        vertical-align: top;\n",
       "    }\n",
       "\n",
       "    .dataframe thead th {\n",
       "        text-align: right;\n",
       "    }\n",
       "</style>\n",
       "<table border=\"1\" class=\"dataframe\">\n",
       "  <thead>\n",
       "    <tr style=\"text-align: right;\">\n",
       "      <th></th>\n",
       "      <th>order_details_id</th>\n",
       "      <th>order_id</th>\n",
       "      <th>pizza_id</th>\n",
       "      <th>quantity</th>\n",
       "      <th>date</th>\n",
       "      <th>time</th>\n",
       "      <th>pizza_type_id</th>\n",
       "      <th>size</th>\n",
       "      <th>price</th>\n",
       "      <th>name</th>\n",
       "      <th>category</th>\n",
       "      <th>ingredients</th>\n",
       "    </tr>\n",
       "  </thead>\n",
       "  <tbody>\n",
       "    <tr>\n",
       "      <th>0</th>\n",
       "      <td>1</td>\n",
       "      <td>1</td>\n",
       "      <td>hawaiian_m</td>\n",
       "      <td>1</td>\n",
       "      <td>2015-01-01</td>\n",
       "      <td>11:38:36</td>\n",
       "      <td>hawaiian</td>\n",
       "      <td>M</td>\n",
       "      <td>13.25</td>\n",
       "      <td>The Hawaiian Pizza</td>\n",
       "      <td>Classic</td>\n",
       "      <td>Sliced Ham, Pineapple, Mozzarella Cheese</td>\n",
       "    </tr>\n",
       "    <tr>\n",
       "      <th>1</th>\n",
       "      <td>2</td>\n",
       "      <td>2</td>\n",
       "      <td>classic_dlx_m</td>\n",
       "      <td>1</td>\n",
       "      <td>2015-01-01</td>\n",
       "      <td>11:57:40</td>\n",
       "      <td>classic_dlx</td>\n",
       "      <td>M</td>\n",
       "      <td>16.00</td>\n",
       "      <td>The Classic Deluxe Pizza</td>\n",
       "      <td>Classic</td>\n",
       "      <td>Pepperoni, Mushrooms, Red Onions, Red Peppers,...</td>\n",
       "    </tr>\n",
       "    <tr>\n",
       "      <th>2</th>\n",
       "      <td>3</td>\n",
       "      <td>2</td>\n",
       "      <td>five_cheese_l</td>\n",
       "      <td>1</td>\n",
       "      <td>2015-01-01</td>\n",
       "      <td>11:57:40</td>\n",
       "      <td>five_cheese</td>\n",
       "      <td>L</td>\n",
       "      <td>18.50</td>\n",
       "      <td>The Five Cheese Pizza</td>\n",
       "      <td>Veggie</td>\n",
       "      <td>Mozzarella Cheese, Provolone Cheese, Smoked Go...</td>\n",
       "    </tr>\n",
       "    <tr>\n",
       "      <th>3</th>\n",
       "      <td>4</td>\n",
       "      <td>2</td>\n",
       "      <td>ital_supr_l</td>\n",
       "      <td>1</td>\n",
       "      <td>2015-01-01</td>\n",
       "      <td>11:57:40</td>\n",
       "      <td>ital_supr</td>\n",
       "      <td>L</td>\n",
       "      <td>20.75</td>\n",
       "      <td>The Italian Supreme Pizza</td>\n",
       "      <td>Supreme</td>\n",
       "      <td>Calabrese Salami, Capocollo, Tomatoes, Red Oni...</td>\n",
       "    </tr>\n",
       "    <tr>\n",
       "      <th>4</th>\n",
       "      <td>5</td>\n",
       "      <td>2</td>\n",
       "      <td>mexicana_m</td>\n",
       "      <td>1</td>\n",
       "      <td>2015-01-01</td>\n",
       "      <td>11:57:40</td>\n",
       "      <td>mexicana</td>\n",
       "      <td>M</td>\n",
       "      <td>16.00</td>\n",
       "      <td>The Mexicana Pizza</td>\n",
       "      <td>Veggie</td>\n",
       "      <td>Tomatoes, Red Peppers, Jalapeno Peppers, Red O...</td>\n",
       "    </tr>\n",
       "  </tbody>\n",
       "</table>\n",
       "</div>"
      ],
      "text/plain": [
       "   order_details_id  order_id       pizza_id  quantity        date      time  \\\n",
       "0                 1         1     hawaiian_m         1  2015-01-01  11:38:36   \n",
       "1                 2         2  classic_dlx_m         1  2015-01-01  11:57:40   \n",
       "2                 3         2  five_cheese_l         1  2015-01-01  11:57:40   \n",
       "3                 4         2    ital_supr_l         1  2015-01-01  11:57:40   \n",
       "4                 5         2     mexicana_m         1  2015-01-01  11:57:40   \n",
       "\n",
       "  pizza_type_id size  price                       name category  \\\n",
       "0      hawaiian    M  13.25         The Hawaiian Pizza  Classic   \n",
       "1   classic_dlx    M  16.00   The Classic Deluxe Pizza  Classic   \n",
       "2   five_cheese    L  18.50      The Five Cheese Pizza   Veggie   \n",
       "3     ital_supr    L  20.75  The Italian Supreme Pizza  Supreme   \n",
       "4      mexicana    M  16.00         The Mexicana Pizza   Veggie   \n",
       "\n",
       "                                         ingredients  \n",
       "0           Sliced Ham, Pineapple, Mozzarella Cheese  \n",
       "1  Pepperoni, Mushrooms, Red Onions, Red Peppers,...  \n",
       "2  Mozzarella Cheese, Provolone Cheese, Smoked Go...  \n",
       "3  Calabrese Salami, Capocollo, Tomatoes, Red Oni...  \n",
       "4  Tomatoes, Red Peppers, Jalapeno Peppers, Red O...  "
      ]
     },
     "execution_count": 11,
     "metadata": {},
     "output_type": "execute_result"
    }
   ],
   "source": [
    "# Merge 3: df2 + pizza_types on pizza_type_id using left join to keep all pizza type id records on df2\n",
    "\n",
    "df3 = pd.merge(df2, pizza_types, on = \"pizza_type_id\", how = \"left\")\n",
    "\n",
    "df3.head()"
   ]
  },
  {
   "cell_type": "code",
   "execution_count": 25,
   "id": "56926f47-1310-4f6f-bc6d-d4494cb60e5f",
   "metadata": {},
   "outputs": [
    {
     "name": "stdout",
     "output_type": "stream",
     "text": [
      "<class 'pandas.core.frame.DataFrame'>\n",
      "RangeIndex: 48620 entries, 0 to 48619\n",
      "Data columns (total 12 columns):\n",
      " #   Column            Non-Null Count  Dtype  \n",
      "---  ------            --------------  -----  \n",
      " 0   order_details_id  48620 non-null  int64  \n",
      " 1   order_id          48620 non-null  int64  \n",
      " 2   pizza_id          48620 non-null  object \n",
      " 3   quantity          48620 non-null  int64  \n",
      " 4   date              48620 non-null  object \n",
      " 5   time              48620 non-null  object \n",
      " 6   pizza_type_id     48620 non-null  object \n",
      " 7   size              48620 non-null  object \n",
      " 8   price             48620 non-null  float64\n",
      " 9   name              48620 non-null  object \n",
      " 10  category          48620 non-null  object \n",
      " 11  ingredients       48620 non-null  object \n",
      "dtypes: float64(1), int64(3), object(8)\n",
      "memory usage: 4.5+ MB\n"
     ]
    }
   ],
   "source": [
    "# Overview of df3\n",
    "\n",
    "df3.info()"
   ]
  },
  {
   "cell_type": "code",
   "execution_count": 23,
   "id": "90eb8f1c-dfc7-4d28-b9a2-33310a12301f",
   "metadata": {},
   "outputs": [
    {
     "name": "stdout",
     "output_type": "stream",
     "text": [
      "<class 'pandas.core.frame.DataFrame'>\n",
      "RangeIndex: 48620 entries, 0 to 48619\n",
      "Data columns (total 13 columns):\n",
      " #   Column            Non-Null Count  Dtype         \n",
      "---  ------            --------------  -----         \n",
      " 0   order_details_id  48620 non-null  int64         \n",
      " 1   order_id          48620 non-null  int64         \n",
      " 2   pizza_id          48620 non-null  object        \n",
      " 3   quantity          48620 non-null  int64         \n",
      " 4   date              48620 non-null  datetime64[ns]\n",
      " 5   time              48620 non-null  datetime64[ns]\n",
      " 6   pizza_type_id     48620 non-null  object        \n",
      " 7   size              48620 non-null  object        \n",
      " 8   price             48620 non-null  float64       \n",
      " 9   name              48620 non-null  object        \n",
      " 10  category          48620 non-null  object        \n",
      " 11  ingredients       48620 non-null  object        \n",
      " 12  revenue           48620 non-null  float64       \n",
      "dtypes: datetime64[ns](2), float64(2), int64(3), object(6)\n",
      "memory usage: 4.8+ MB\n"
     ]
    }
   ],
   "source": [
    "# Converting date and time to a datetime dtype\n",
    "\n",
    "df3[\"date\"] = pd.to_datetime(df3[\"date\"])\n",
    "\n",
    "df3[\"time\"] = pd.to_datetime(df3[\"time\"])\n",
    "\n",
    "df3.info()"
   ]
  },
  {
   "cell_type": "code",
   "execution_count": 27,
   "id": "fc9971c8-ee81-49a5-90f7-892596ebea79",
   "metadata": {},
   "outputs": [
    {
     "data": {
      "text/plain": [
       "order_details_id    0\n",
       "order_id            0\n",
       "pizza_id            0\n",
       "quantity            0\n",
       "date                0\n",
       "time                0\n",
       "pizza_type_id       0\n",
       "size                0\n",
       "price               0\n",
       "name                0\n",
       "category            0\n",
       "ingredients         0\n",
       "dtype: int64"
      ]
     },
     "execution_count": 27,
     "metadata": {},
     "output_type": "execute_result"
    }
   ],
   "source": [
    "df3.isna().sum()"
   ]
  },
  {
   "cell_type": "code",
   "execution_count": 28,
   "id": "0697a3af-fb11-4662-8d01-023b4f344f64",
   "metadata": {},
   "outputs": [
    {
     "data": {
      "text/plain": [
       "0"
      ]
     },
     "execution_count": 28,
     "metadata": {},
     "output_type": "execute_result"
    }
   ],
   "source": [
    "df3.duplicated().sum()"
   ]
  },
  {
   "cell_type": "markdown",
   "id": "a4265e63-5eff-422a-8c07-54b349156e75",
   "metadata": {},
   "source": [
    "## Analysis"
   ]
  },
  {
   "cell_type": "markdown",
   "id": "750ccdc9-01d2-4d02-b46a-8de0363bc926",
   "metadata": {},
   "source": [
    "### 1. Total Revenue/Sales"
   ]
  },
  {
   "cell_type": "code",
   "execution_count": 14,
   "id": "354f88d7-8833-43bb-9f1a-4a13f0b487da",
   "metadata": {},
   "outputs": [
    {
     "data": {
      "text/plain": [
       "817860.05"
      ]
     },
     "execution_count": 14,
     "metadata": {},
     "output_type": "execute_result"
    }
   ],
   "source": [
    "df3[\"revenue\"] = df3[\"quantity\"] * df3[\"price\"]\n",
    "\n",
    "total_revenue = df3[\"revenue\"].sum()\n",
    "\n",
    "total_revenue"
   ]
  },
  {
   "cell_type": "markdown",
   "id": "b56d73bb-0113-4d82-98f3-641c1ecdfd26",
   "metadata": {},
   "source": [
    "### 2. Total Quantity Sold"
   ]
  },
  {
   "cell_type": "code",
   "execution_count": 30,
   "id": "15f6c10f-f2d1-4046-9d69-e50c6e7adc15",
   "metadata": {},
   "outputs": [
    {
     "data": {
      "text/plain": [
       "49574"
      ]
     },
     "execution_count": 30,
     "metadata": {},
     "output_type": "execute_result"
    }
   ],
   "source": [
    "total_quantity = df3[\"quantity\"].sum()\n",
    "\n",
    "total_quantity"
   ]
  },
  {
   "cell_type": "markdown",
   "id": "9cf5b56c-7379-41f3-a29b-f23e72a8a2de",
   "metadata": {},
   "source": [
    "### 3. Total Orders"
   ]
  },
  {
   "cell_type": "code",
   "execution_count": 31,
   "id": "91339015-9358-4380-b4dd-f789045afdfe",
   "metadata": {},
   "outputs": [
    {
     "data": {
      "text/plain": [
       "21350"
      ]
     },
     "execution_count": 31,
     "metadata": {},
     "output_type": "execute_result"
    }
   ],
   "source": [
    "total_orders = df3[\"order_id\"].nunique()\n",
    "\n",
    "total_orders"
   ]
  },
  {
   "cell_type": "markdown",
   "id": "5e2a4f8d-d19f-491d-a871-5ce2780d2b37",
   "metadata": {},
   "source": [
    "### 4. Number of Pizza Types They Sell"
   ]
  },
  {
   "cell_type": "code",
   "execution_count": 32,
   "id": "1ce09377-a54b-4995-9968-494963a83f0d",
   "metadata": {},
   "outputs": [
    {
     "data": {
      "text/plain": [
       "32"
      ]
     },
     "execution_count": 32,
     "metadata": {},
     "output_type": "execute_result"
    }
   ],
   "source": [
    "total_pizza_types = df3[\"pizza_type_id\"].nunique()\n",
    "\n",
    "total_pizza_types"
   ]
  },
  {
   "cell_type": "markdown",
   "id": "9694ae40-e6be-4427-be04-73fa5089386a",
   "metadata": {},
   "source": [
    "### 5. Average Price of Pizzas"
   ]
  },
  {
   "cell_type": "code",
   "execution_count": 34,
   "id": "1dbbc4fd-d99d-460b-af90-b648513c7118",
   "metadata": {},
   "outputs": [
    {
     "data": {
      "text/plain": [
       "16.494132044426163"
      ]
     },
     "execution_count": 34,
     "metadata": {},
     "output_type": "execute_result"
    }
   ],
   "source": [
    "average_price = df3[\"price\"].mean()\n",
    "\n",
    "average_price"
   ]
  },
  {
   "cell_type": "markdown",
   "id": "0543971f-ca28-4125-8bc7-854e8a70526a",
   "metadata": {},
   "source": [
    "### 6. Peak Hours of Sales"
   ]
  },
  {
   "cell_type": "code",
   "execution_count": 25,
   "id": "7feab3ea-e321-4c9b-ba8e-9a2ca61ad523",
   "metadata": {},
   "outputs": [
    {
     "data": {
      "text/plain": [
       "order_hour\n",
       "12    6776\n",
       "13    6413\n",
       "18    5417\n",
       "17    5211\n",
       "19    4406\n",
       "16    4239\n",
       "14    3613\n",
       "20    3534\n",
       "15    3216\n",
       "11    2728\n",
       "21    2545\n",
       "22    1386\n",
       "23      68\n",
       "10      18\n",
       "9        4\n",
       "Name: quantity, dtype: int64"
      ]
     },
     "execution_count": 25,
     "metadata": {},
     "output_type": "execute_result"
    }
   ],
   "source": [
    "# Extracting the hour of the order from date\n",
    "df3[\"order_hour\"] = df3[\"time\"].dt.hour\n",
    "\n",
    "# Count sales by hour\n",
    "peak_hours = df3.groupby(\"order_hour\")[\"quantity\"].sum().sort_values(ascending = False)\n",
    "\n",
    "peak_hours"
   ]
  },
  {
   "cell_type": "code",
   "execution_count": 52,
   "id": "5501053c-ab33-4f38-a7cd-3a234dfdf5f5",
   "metadata": {},
   "outputs": [
    {
     "data": {
      "image/png": "[encoded data removed]",
      "text/plain": [
       "<Figure size 600x400 with 1 Axes>"
      ]
     },
     "metadata": {},
     "output_type": "display_data"
    }
   ],
   "source": [
    "plt.figure(figsize = (6,4))\n",
    "df3.groupby(\"order_hour\")[\"quantity\"].sum().sort_values(ascending = False).plot(kind = \"bar\", color = \"blue\")\n",
    "plt.title(\"Sales by Hour of the Day\")\n",
    "plt.xlabel(\"Hour of the Day\")\n",
    "plt.ylabel(\"Quantity Sold\")\n",
    "plt.xticks(rotation = 90)\n",
    "plt.show()"
   ]
  },
  {
   "cell_type": "markdown",
   "id": "b7303ddc-247e-41b9-8716-fa11f3e01e8e",
   "metadata": {},
   "source": [
    "### 7. Total Sales Made on Each Day of The Week"
   ]
  },
  {
   "cell_type": "code",
   "execution_count": 49,
   "id": "70df2ea1-a9e2-4015-907a-d68f3fe9fb6e",
   "metadata": {},
   "outputs": [
    {
     "data": {
      "text/plain": [
       "day_of_week\n",
       "Friday       136073.90\n",
       "Thursday     123528.50\n",
       "Saturday     123182.40\n",
       "Wednesday    114408.40\n",
       "Tuesday      114133.80\n",
       "Monday       107329.55\n",
       "Sunday        99203.50\n",
       "Name: revenue, dtype: float64"
      ]
     },
     "execution_count": 49,
     "metadata": {},
     "output_type": "execute_result"
    }
   ],
   "source": [
    "# Extract the day of the week\n",
    "df3[\"day_of_week\"] = df3[\"date\"].dt.day_name()\n",
    "\n",
    "# Calculate total sales for each day of the week\n",
    "sales_by_day = df3.groupby(\"day_of_week\")[\"revenue\"].sum().sort_values(ascending = False)\n",
    "\n",
    "sales_by_day"
   ]
  },
  {
   "cell_type": "code",
   "execution_count": 50,
   "id": "afe3c4f8-64aa-4b3c-9192-7b43434cf50f",
   "metadata": {},
   "outputs": [
    {
     "data": {
      "image/png": "[encoded data removed]",
      "text/plain": [
       "<Figure size 600x400 with 1 Axes>"
      ]
     },
     "metadata": {},
     "output_type": "display_data"
    }
   ],
   "source": [
    "# What day of the week had the most sales?\n",
    "# Friday\n",
    "\n",
    "plt.figure(figsize = (6,4))\n",
    "df3.groupby(\"day_of_week\")[\"revenue\"].sum().sort_values(ascending = False).plot(kind = \"line\", marker = \"o\", color = \"red\")\n",
    "plt.title(\"Weekly Sales\")\n",
    "plt.xlabel(\"Day of the Week\")\n",
    "plt.ylabel(\"Total Sales\")\n",
    "plt.xticks(rotation = 90)\n",
    "plt.show()"
   ]
  },
  {
   "cell_type": "markdown",
   "id": "0537ae25-4e30-4ad6-a079-75db2f49dbbb",
   "metadata": {},
   "source": [
    "### 8. Top 5 Bestselling Pizzas"
   ]
  },
  {
   "cell_type": "code",
   "execution_count": 45,
   "id": "c9537bd1-0f89-4c6b-9dd8-387117ccdd0f",
   "metadata": {},
   "outputs": [
    {
     "data": {
      "text/plain": [
       "pizza_type_id\n",
       "classic_dlx    2453\n",
       "bbq_ckn        2432\n",
       "hawaiian       2422\n",
       "pepperoni      2418\n",
       "thai_ckn       2371\n",
       "Name: quantity, dtype: int64"
      ]
     },
     "execution_count": 45,
     "metadata": {},
     "output_type": "execute_result"
    }
   ],
   "source": [
    "top_pizzas = df3.groupby(\"pizza_type_id\")[\"quantity\"].sum().sort_values(ascending = False).head(5)\n",
    "\n",
    "top_pizzas"
   ]
  },
  {
   "cell_type": "code",
   "execution_count": 47,
   "id": "be4743bf-b7c0-4b55-8e72-a3a21aff02ff",
   "metadata": {},
   "outputs": [
    {
     "data": {
      "image/png": "[encoded data removed]",
      "text/plain": [
       "<Figure size 600x400 with 1 Axes>"
      ]
     },
     "metadata": {},
     "output_type": "display_data"
    }
   ],
   "source": [
    "plt.figure(figsize = (6,4))\n",
    "df3.groupby(\"pizza_type_id\")[\"quantity\"].sum().sort_values(ascending = False).head().plot(kind = \"bar\", color = \"skyblue\")\n",
    "plt.title(\"Top 5 Bestselling Pizzas\")\n",
    "plt.xlabel(\"Pizza Type\")\n",
    "plt.ylabel(\"Quantity Sold\")\n",
    "plt.xticks(rotation = 90)\n",
    "plt.show()"
   ]
  },
  {
   "cell_type": "markdown",
   "id": "0214f9ed-7d55-4b1a-8f88-44478546f19f",
   "metadata": {},
   "source": [
    "### 9. Sales Made in Each Month - Trend Analysis"
   ]
  },
  {
   "cell_type": "code",
   "execution_count": 43,
   "id": "d2fcffed-cf69-4a1a-b94b-87d35e62dfd5",
   "metadata": {},
   "outputs": [
    {
     "data": {
      "text/plain": [
       "month\n",
       "July         72557.90\n",
       "May          71402.75\n",
       "March        70397.10\n",
       "November     70395.35\n",
       "January      69793.30\n",
       "April        68736.80\n",
       "August       68278.25\n",
       "June         68230.20\n",
       "February     65159.60\n",
       "December     64701.15\n",
       "September    64180.05\n",
       "October      64027.60\n",
       "Name: revenue, dtype: float64"
      ]
     },
     "execution_count": 43,
     "metadata": {},
     "output_type": "execute_result"
    }
   ],
   "source": [
    "# Extract the month\n",
    "df3[\"month\"] = df3[\"date\"].dt.month_name()\n",
    "\n",
    "# Sales by month\n",
    "sales_by_month = df3.groupby(\"month\")[\"revenue\"].sum().sort_values(ascending = False)\n",
    "\n",
    "sales_by_month"
   ]
  },
  {
   "cell_type": "code",
   "execution_count": 46,
   "id": "408b729d-d99b-4d01-a2a2-a331045388ca",
   "metadata": {},
   "outputs": [
    {
     "data": {
      "image/png": "[encoded data removed]",
      "text/plain": [
       "<Figure size 600x400 with 1 Axes>"
      ]
     },
     "metadata": {},
     "output_type": "display_data"
    }
   ],
   "source": [
    "plt.figure(figsize = (6,4))\n",
    "df3.groupby(\"month\")[\"revenue\"].sum().sort_values(ascending = False).plot(kind = \"line\", marker = \"o\", color = \"blue\")\n",
    "plt.title(\"Monthly Sales Trend\")\n",
    "plt.xlabel(\"Month\")\n",
    "plt.ylabel(\"Total Sales\")\n",
    "plt.xticks(rotation = 90)\n",
    "plt.show()"
   ]
  },
  {
   "cell_type": "markdown",
   "id": "b301ad4d-3c4d-46dc-9df9-e8b6206e016f",
   "metadata": {},
   "source": [
    "### 10. Pizza Types Not Doing Well on the Menu"
   ]
  },
  {
   "cell_type": "code",
   "execution_count": 58,
   "id": "cd6af5fd-31d0-4cee-bf37-a9decef53b3e",
   "metadata": {},
   "outputs": [
    {
     "data": {
      "text/plain": [
       "pizza_type_id\n",
       "brie_carre       490\n",
       "mediterraneo     934\n",
       "calabrese        937\n",
       "spinach_supr     950\n",
       "soppressata      961\n",
       "spin_pesto       970\n",
       "ckn_pesto        973\n",
       "ital_veggie      981\n",
       "ckn_alfredo      987\n",
       "green_garden     997\n",
       "pep_msh_pep     1359\n",
       "five_cheese     1409\n",
       "the_greek       1420\n",
       "ital_cpcllo     1438\n",
       "peppr_salami    1446\n",
       "spinach_fet     1446\n",
       "prsc_argla      1457\n",
       "napolitana      1464\n",
       "mexicana        1484\n",
       "veggie_veg      1526\n",
       "ital_supr       1884\n",
       "four_cheese     1902\n",
       "big_meat        1914\n",
       "southw_ckn      1917\n",
       "spicy_ital      1924\n",
       "sicilian        1938\n",
       "cali_ckn        2370\n",
       "thai_ckn        2371\n",
       "pepperoni       2418\n",
       "hawaiian        2422\n",
       "bbq_ckn         2432\n",
       "classic_dlx     2453\n",
       "Name: quantity, dtype: int64"
      ]
     },
     "execution_count": 58,
     "metadata": {},
     "output_type": "execute_result"
    }
   ],
   "source": [
    "low_sales_pizzas = df3.groupby(\"pizza_type_id\")[\"quantity\"].sum().sort_values()\n",
    "\n",
    "low_sales_pizzas"
   ]
  },
  {
   "cell_type": "code",
   "execution_count": 42,
   "id": "4cc1241d-0edf-4317-be6f-3ea929aa71ab",
   "metadata": {},
   "outputs": [
    {
     "data": {
      "image/png": "[encoded data removed]",
      "text/plain": [
       "<Figure size 600x400 with 1 Axes>"
      ]
     },
     "metadata": {},
     "output_type": "display_data"
    }
   ],
   "source": [
    "plt.figure(figsize = (6,4))\n",
    "df3.groupby(\"pizza_type_id\")[\"quantity\"].sum().sort_values().head(10).plot(kind = \"bar\", color = \"purple\")\n",
    "plt.title(\"Pizza Types with Low Sales\")\n",
    "plt.xlabel(\"Pizza Type\")\n",
    "plt.ylabel(\"Quantity Sold\")\n",
    "plt.xticks(rotation = 90)\n",
    "plt.show()"
   ]
  },
  {
   "cell_type": "code",
   "execution_count": null,
   "id": "d12eaa01-7e78-4eb9-9754-01e90aa87408",
   "metadata": {},
   "outputs": [],
   "source": []
  }
 ],
 "metadata": {
  "kernelspec": {
   "display_name": "Python 3 (ipykernel)",
   "language": "python",
   "name": "python3"
  },
  "language_info": {
   "codemirror_mode": {
    "name": "ipython",
    "version": 3
   },
   "file_extension": ".py",
   "mimetype": "text/x-python",
   "name": "python",
   "nbconvert_exporter": "python",
   "pygments_lexer": "ipython3",
   "version": "3.12.7"
  }
 },
 "nbformat": 4,
 "nbformat_minor": 5
}
